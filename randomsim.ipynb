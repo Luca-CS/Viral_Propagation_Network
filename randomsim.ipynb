{
 "cells": [
  {
   "cell_type": "code",
   "execution_count": 280,
   "metadata": {},
   "outputs": [],
   "source": [
    "# Import des fonctions et éléments\n",
    "\n",
    "from fonctionsutiles import *\n",
    "import numpy as np\n",
    "import matplotlib.pyplot as plt\n",
    "import numpy as np\n",
    "from random import choices, randint,sample\n",
    "import igraph as ig"
   ]
  },
  {
   "cell_type": "code",
   "execution_count": 276,
   "metadata": {},
   "outputs": [],
   "source": [
    "# Constantes utiles\n",
    "n_node = 10000\n",
    "moyenne = 300"
   ]
  },
  {
   "cell_type": "code",
   "execution_count": 292,
   "metadata": {},
   "outputs": [
    {
     "name": "stdout",
     "output_type": "stream",
     "text": [
      "igraph.Vertex(<igraph.Graph object at 0x00000248B1D4DA40>, 0, {})\n"
     ]
    },
    {
     "data": {
      "text/plain": [
       "[<matplotlib.lines.Line2D at 0x248b6c2eb00>]"
      ]
     },
     "execution_count": 292,
     "metadata": {},
     "output_type": "execute_result"
    },
    {
     "data": {
      "image/png": "[encoded data removed]",
      "text/plain": [
       "<Figure size 640x480 with 1 Axes>"
      ]
     },
     "metadata": {},
     "output_type": "display_data"
    }
   ],
   "source": [
    "#Génération du graphe\n",
    "\n",
    "network = ig.Graph.Barabasi(n = n_node, m = moyenne,directed = True)\n",
    "\n",
    "print(network.vs[0])\n",
    "\n",
    "L = []\n",
    "for v in network.vs:\n",
    "    L.append(v.indegree())\n",
    "    \n",
    "plt.plot(L)\n"
   ]
  },
  {
   "cell_type": "code",
   "execution_count": 209,
   "metadata": {},
   "outputs": [],
   "source": [
    "#Génération d'une liste avec poids pour choisir les individus de manière inégale\n",
    "\n",
    "step = int(n_node/10)\n",
    "weight_list = []\n",
    "\n",
    "val = 1\n",
    "count = 0\n",
    "for i in range(n_node):\n",
    "    count += 1\n",
    "    weight_list.append(val)\n",
    "    if count > step:\n",
    "        count = 0\n",
    "        val *= 1.3"
   ]
  },
  {
   "cell_type": "code",
   "execution_count": 210,
   "metadata": {},
   "outputs": [],
   "source": [
    "# Création d'un dictionnaire résumant les informations de chaque noeuds\n",
    "\n",
    "def reini_dico():\n",
    "    dico = {}\n",
    "    for v in network.vs:\n",
    "            # initia lisation of the dictionary with basics caracterisitcs\n",
    "        dico[v] = {'total_views': 0,\n",
    "                            'total_likes': 0,\n",
    "                            'total_comments': 0,\n",
    "                            'total_click': 0,\n",
    "                            'total_donations': 0,\n",
    "                            'posting': 0, # first number = is posting at this timestamp, second number = will post at the next timestamp)\n",
    "                            'posted': 0, # 1 if the user already posted something, turns back to 0 after a while (so that the user can post again)\n",
    "                            'iterations_since_post':0,\n",
    "                            'influenciability' : choices([1,2,3], weights=(30,20,10), k=1)[0],\n",
    "                            'seuil_repost' : int(np.random.uniform(0,100)),\n",
    "                            'nb_followers' : v.indegree()\n",
    "                            }  # Parameters we consider have an impact on the post propagation\n",
    "    return dico"
   ]
  },
  {
   "cell_type": "code",
   "execution_count": 211,
   "metadata": {},
   "outputs": [],
   "source": [
    "def score(network,dico):\n",
    "    # Donne le score global des individus dans le réseau\n",
    "    \n",
    "    score_dic = {}\n",
    "    for user in dico:\n",
    "        s = 0\n",
    "        user_d = dico[user]\n",
    "        \n",
    "        view = user_d['total_views']\n",
    "        likes = user_d['total_likes']\n",
    "        comm = user_d['total_comments']\n",
    "        click = user_d['total_click']\n",
    "        donate = user_d['total_donations']\n",
    "        inf = user_d['influenciability']\n",
    "        \n",
    "        s += view + 20*likes + 200*comm + 400*click + 4000 * donate + inf\n",
    "        s *= (inf+1)/2\n",
    "        \n",
    "        score_dic[user] = s\n",
    "    return score_dic"
   ]
  },
  {
   "cell_type": "code",
   "execution_count": 212,
   "metadata": {},
   "outputs": [],
   "source": [
    "def action_number(poster,dico):\n",
    "    # Returns a dictionnary of the number of persons doing each action\n",
    "    action_dic = {'view': 0, 'like': 0, 'comment': 0, 'click': 0, 'donate':0}\n",
    "        \n",
    "    followers = dico[poster]['nb_followers']\n",
    "    \n",
    "    \n",
    "    nb_views = followers*np.random.exponential(1/1.2, 1)[0]/1.4\n",
    "    nb_likes = followers*np.random.exponential(1/6, 1)[0]/1.2\n",
    "    nb_comments = followers*np.random.exponential(1/30, 1)[0]/1.2\n",
    "    nb_clicks = np.random.binomial(nb_views, 320/251167)\n",
    "\n",
    "    action_dic['view'] = int(nb_views)\n",
    "    action_dic['like'] = int(nb_likes)\n",
    "    action_dic['comment'] = int(nb_comments)\n",
    "    action_dic['click'] = int(nb_clicks)\n",
    "    \n",
    "    return action_dic\n",
    "    \n",
    "   \n",
    "\n",
    "def post_rank(graph,poster,score_dic):    \n",
    "    # Ajoute le score propre à la relation de follow et trie la liste\n",
    "    for key in score_dic:\n",
    "        score = score_dic[key]\n",
    "        if graph.are_connected(key,poster):\n",
    "            score *= 2\n",
    "        score_dic[key] = score\n",
    "    return sorted(score_dic, key=score_dic.get, reverse=True)\n",
    "    \n",
    "\n",
    "\n",
    "def choose(action_dic,rank_lst):\n",
    "    # Outputs the choice dictionnary where a list reprensetns the user_ids that will do the actions\n",
    "    choice_dic = {'view': [], 'like': [], 'comment': [], 'click': [], 'donate':[]}\n",
    "    \n",
    "    for key in choice_dic:\n",
    "        if key != 'donate' :\n",
    "            choice_dic[key] = choices(rank_lst,weights = weight_list,k = action_dic[key])\n",
    "        else:\n",
    "            click_lst = choice_dic['click']\n",
    "            donate = []\n",
    "            for clicker in click_lst:\n",
    "                flip = choices([0,1],weights = [0.9,0.1],k = 1)[0]\n",
    "                if flip == 1:\n",
    "                    donate.append(clicker)\n",
    "            choice_dic[key] = donate\n",
    "\n",
    "    return choice_dic\n",
    "\n",
    "def action_update(choice_dic,dico):\n",
    "    # Updates the values of the dictionnary absed on the actions done (changes second value of tuple)\n",
    "    \n",
    "    #vues:\n",
    "    for id in choice_dic['view']:\n",
    "        dico[id]['total_views']+=1\n",
    "    #like:\n",
    "    for id in choice_dic['like']:\n",
    "        dico[id]['total_likes']+=1\n",
    "    #comment:\n",
    "    for id in choice_dic['comment']:\n",
    "        dico[id]['total_comments']+=1\n",
    "    #click:\n",
    "    for id in choice_dic['click']:\n",
    "        dico[id]['total_click']+=1\n",
    "    #dons:\n",
    "    for id in choice_dic['donate']:\n",
    "        dico[id]['total_donations']+=1\n",
    "        \n",
    "    return dico"
   ]
  },
  {
   "cell_type": "code",
   "execution_count": 213,
   "metadata": {},
   "outputs": [],
   "source": [
    "def post(poster,network,scores,dico):\n",
    "    # Variables : vertex id, the graph, a score dictionnary, the global dictionnary\n",
    "    \n",
    "    action_dic = action_number(poster,dico)\n",
    "    rank_lst = post_rank(network,poster,scores)\n",
    "    choice_dic= choose(action_dic, rank_lst)\n",
    "    dico = action_update(choice_dic,dico)\n",
    "    \n",
    "    return dico"
   ]
  },
  {
   "cell_type": "code",
   "execution_count": 214,
   "metadata": {},
   "outputs": [],
   "source": [
    "def update(dico,g):\n",
    "    #Prend en argument le dictionnaire de personnes à un instant et le réseau et fait le pas de temps suivant\n",
    "    general_score = score(g,dico)       #dictionnaire avec id en clé et score en valeur\n",
    "    for person in dico:\n",
    "        if dico[person]['posting'] == 1:\n",
    "            dico = post(person,g,general_score,dico)\n",
    "    \n",
    "    for key in dico:\n",
    "        if dico[key]['posting'] == 1:\n",
    "            dico[key]['posting'] = 0\n",
    "            dico[key]['posted'] = 1\n",
    "        elif (dico[key]['seuil_repost'] < dico[key]['total_views']) and (dico[key]['posted'] != 1):\n",
    "            dico[key]['posting'] = 1\n",
    "\n",
    "def posts_initiaux(dico, listeid):\n",
    "    for id in listeid:\n",
    "        dico[id]['posting']=1\n",
    "    return"
   ]
  },
  {
   "cell_type": "code",
   "execution_count": 259,
   "metadata": {},
   "outputs": [],
   "source": [
    "dico = reini_dico()\n",
    "\n",
    "# posts_initiaux(dico,[name_dic[483543],name_dic[672702],name_dic[587566],name_dic[474227]])\n",
    "posts_initiaux(dico,[network.vs[randint(800,1200)] for i in range(10)])\n",
    "\n",
    "V = []\n",
    "L = []    \n",
    "Co = []\n",
    "CL = []\n",
    "D = []\n",
    "Repost = []\n",
    "\n",
    "for t in range(75):\n",
    "    num = 0\n",
    "    for key in dico:\n",
    "        num += dico[key]['posting'] \n",
    "    Repost.append(num)\n",
    "        \n",
    "    update(dico,network)\n",
    "    \n",
    "for key in dico:\n",
    "    V.append(dico[key]['total_views'])\n",
    "    L.append(dico[key]['total_likes'])\n",
    "    Co.append(dico[key]['total_comments'])\n",
    "    CL.append(dico[key]['total_click'])\n",
    "    D.append(dico[key]['total_donations'])\n"
   ]
  },
  {
   "cell_type": "code",
   "execution_count": 260,
   "metadata": {},
   "outputs": [
    {
     "name": "stdout",
     "output_type": "stream",
     "text": [
      "[10, 6, 123, 31, 122, 371, 540, 801, 1270, 2812, 2231, 1015, 268, 116, 75, 24, 11, 5, 3, 1, 0, 0, 0, 0, 0, 0, 0, 0, 0, 0, 0, 0, 0, 0, 0, 0, 0, 0, 0, 0, 0, 0, 0, 0, 0, 0, 0, 0, 0, 0, 0, 0, 0, 0, 0, 0, 0, 0, 0, 0, 0, 0, 0, 0, 0, 0, 0, 0, 0, 0, 0, 0, 0, 0, 0]\n",
      "9835\n"
     ]
    },
    {
     "data": {
      "image/png": "[encoded data removed]",
      "text/plain": [
       "<Figure size 640x480 with 1 Axes>"
      ]
     },
     "metadata": {},
     "output_type": "display_data"
    },
    {
     "name": "stdout",
     "output_type": "stream",
     "text": [
      "sommme totales\n",
      "1695298\n",
      "347313\n",
      "75072\n",
      "2152\n",
      "200\n"
     ]
    },
    {
     "data": {
      "image/png": "[encoded data removed]",
      "text/plain": [
       "<Figure size 640x480 with 1 Axes>"
      ]
     },
     "metadata": {},
     "output_type": "display_data"
    }
   ],
   "source": [
    "print(Repost)\n",
    "print(sum(Repost))\n",
    "plt.plot(Repost[:15])\n",
    "plt.show()\n",
    "\n",
    "print('sommme totales')\n",
    "print(sum(V))\n",
    "print(sum(L))\n",
    "print(sum(Co))\n",
    "print(sum(CL))\n",
    "print(sum(D))\n",
    "\n",
    "plt.hist(D)\n",
    "plt.show()"
   ]
  },
  {
   "cell_type": "code",
   "execution_count": 321,
   "metadata": {},
   "outputs": [],
   "source": [
    "vertex_per_follower = []\n",
    "L = []\n",
    "for vertex in network.vs:\n",
    "    followers = vertex.indegree()\n",
    "    tuple = (vertex,followers)\n",
    "    L.append(tuple)\n",
    "L.sort(key=lambda a: a[1])\n",
    "L.reverse()\n",
    "vertex_per_follower = [L[i][0] for i in range(len(L))]\n",
    "    "
   ]
  },
  {
   "cell_type": "code",
   "execution_count": 326,
   "metadata": {},
   "outputs": [
    {
     "name": "stdout",
     "output_type": "stream",
     "text": [
      "6\n",
      "(0.94, 6)\n",
      "[(0.94, 6)]\n"
     ]
    }
   ],
   "source": [
    "# COMMENT FAIRE :\n",
    "# Choisir une colonne du sheet (a - b)\n",
    "a = 0\n",
    "b = 5\n",
    "\n",
    "# Choisir une précision \n",
    "p = 50\n",
    "\n",
    "#CHoisir les ligne que l'on veut faire\n",
    "min_l = 6\n",
    "max_l = 6\n",
    "\n",
    "# Votre résultat sera de la forme (0.p, n). Veuillez remplir la ligne correspondant de la colonne avec la valeur p\n",
    "# Merci :)\n",
    "\n",
    "\n",
    "\n",
    "\n",
    "\n",
    "def viral(ini_lst):\n",
    "    dico = reini_dico()\n",
    "\n",
    "    posts_initiaux(dico,ini_lst)\n",
    "    bol = True\n",
    "    n = 0\n",
    "    \n",
    "    while bol:\n",
    "        n += 1\n",
    "\n",
    "        if n > 6:\n",
    "            return True\n",
    "        update(dico,network)\n",
    "\n",
    "        num = 0\n",
    "        for key in dico:\n",
    "            num += dico[key]['posting'] \n",
    "        if num == 0:\n",
    "            return False\n",
    "        if num > 250:\n",
    "            return True\n",
    "\n",
    "def prob_virality(a,b,n):\n",
    "    s = 0\n",
    "    num = 0\n",
    "    for i in range(p):\n",
    "        num += 1\n",
    "        list = sample(range(a,b+1),n)\n",
    "        vertex = [vertex_per_follower[i] for i in list]\n",
    "        \n",
    "        s += int(viral(vertex))\n",
    "    return s/num    \n",
    "\n",
    "def prob_virality_inter(a,b):\n",
    "    L = []\n",
    "    for n in range(min_l,max_l + 1):\n",
    "        print(n)\n",
    "        L.append((prob_virality(a,b,n),n))\n",
    "        print(L[-1])\n",
    "    return L\n",
    "    \n",
    "print(prob_virality_inter(a,b))\n",
    "\n",
    "            "
   ]
  }
 ],
 "metadata": {
  "kernelspec": {
   "display_name": "Python 3",
   "language": "python",
   "name": "python3"
  },
  "language_info": {
   "codemirror_mode": {
    "name": "ipython",
    "version": 3
   },
   "file_extension": ".py",
   "mimetype": "text/x-python",
   "name": "python",
   "nbconvert_exporter": "python",
   "pygments_lexer": "ipython3",
   "version": "3.10.7"
  },
  "orig_nbformat": 4,
  "vscode": {
   "interpreter": {
    "hash": "4eef1e6a6aba5e02d365128cec7d37b09934424f6b3b6fc25e837c6d948e9723"
   }
  }
 },
 "nbformat": 4,
 "nbformat_minor": 2
}
