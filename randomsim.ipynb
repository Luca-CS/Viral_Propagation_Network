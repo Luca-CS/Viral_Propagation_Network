{
 "cells": [
  {
   "cell_type": "code",
   "execution_count": 118,
   "metadata": {},
   "outputs": [],
   "source": [
    "from fonctionsutiles import *\n",
    "import numpy as np\n",
    "import matplotlib.pyplot as plt\n",
    "import numpy as np\n",
    "from random import choices\n",
    "import igraph as ig"
   ]
  },
  {
   "cell_type": "code",
   "execution_count": 119,
   "metadata": {},
   "outputs": [
    {
     "name": "stdout",
     "output_type": "stream",
     "text": [
      "188.31975\n"
     ]
    }
   ],
   "source": [
    "network = ig.Graph.Barabasi(n=4000, m=193,directed = True)\n",
    "\n",
    "n = 0\n",
    "s = 0\n",
    "for v in network.vs:\n",
    "    n += 1\n",
    "    s += v.indegree()\n",
    "print(s/n)\n",
    "\n"
   ]
  },
  {
   "cell_type": "code",
   "execution_count": 120,
   "metadata": {},
   "outputs": [],
   "source": [
    "node_num = network.vcount()\n",
    "step = int(node_num/10)\n",
    "weight_list = []\n",
    "\n",
    "val = 1\n",
    "count = 0\n",
    "for i in range(node_num):\n",
    "    count += 1\n",
    "    weight_list.append(val)\n",
    "    if count > step:\n",
    "        count = 0\n",
    "        val *= 1.3"
   ]
  },
  {
   "cell_type": "code",
   "execution_count": 121,
   "metadata": {},
   "outputs": [],
   "source": [
    "def reini_dico():\n",
    "    dico = {}\n",
    "    for v in network.vs:\n",
    "            # initia lisation of the dictionary with basics caracterisitcs\n",
    "        dico[v] = {'total_views': 0,\n",
    "                            'total_likes': 0,\n",
    "                            'total_comments': 0,\n",
    "                            'total_click': 0,\n",
    "                            'total_donations': 0,\n",
    "                            'posting': 0, # first number = is posting at this timestamp, second number = will post at the next timestamp)\n",
    "                            'posted': 0, # 1 if the user already posted something, turns back to 0 after a while (so that the user can post again)\n",
    "                            'iterations_since_post':0,\n",
    "                            'influenciability' : choices([1,2,3], weights=(30,20,10), k=1)[0],\n",
    "                            'seuil_repost' : int(np.random.uniform(0,100)),\n",
    "                            'nb_followers' : v.indegree()\n",
    "                            }  # Parameters we consider have an impact on the post propagation\n",
    "    return dico"
   ]
  },
  {
   "cell_type": "code",
   "execution_count": 122,
   "metadata": {},
   "outputs": [],
   "source": [
    "def score(network,dico):\n",
    "    # Donne le score global des individus dans le réseau\n",
    "    \n",
    "    score_dic = {}\n",
    "    for user in dico:\n",
    "        s = 0\n",
    "        user_d = dico[user]\n",
    "        \n",
    "        view = user_d['total_views']\n",
    "        likes = user_d['total_likes']\n",
    "        comm = user_d['total_comments']\n",
    "        click = user_d['total_click']\n",
    "        donate = user_d['total_donations']\n",
    "        inf = user_d['influenciability']\n",
    "        \n",
    "        s += view + 20*likes + 200*comm + 400*click + 4000 * donate + inf\n",
    "        s *= (inf+1)/2\n",
    "        \n",
    "        score_dic[user] = s\n",
    "    return score_dic"
   ]
  },
  {
   "cell_type": "code",
   "execution_count": 123,
   "metadata": {},
   "outputs": [],
   "source": [
    "def action_number(poster,dico):\n",
    "    # Returns a dictionnary of the number of persons doing each action\n",
    "    action_dic = {'view': 0, 'like': 0, 'comment': 0, 'click': 0, 'donate':0}\n",
    "        \n",
    "    followers = dico[poster]['nb_followers']\n",
    "    \n",
    "    \n",
    "    nb_views = followers*np.random.exponential(1/1.2, 1)[0]/1.2\n",
    "    nb_likes = followers*np.random.exponential(1/6, 1)[0]/6\n",
    "    nb_comments = followers*np.random.exponential(1/30, 1)[0]/30\n",
    "    nb_clicks = np.random.binomial(nb_views, 320/251167)\n",
    "    \n",
    "    a = \"\"\" nb_views = followers*np.random.exponential(1/1.2, 1)[0]/1.2\n",
    "    nb_likes = followers*np.random.exponential(1/6, 1)[0]/6\n",
    "    nb_comments = followers*np.random.exponential(1/30, 1)[0]/30\n",
    "    nb_clicks = np.random.binomial(nb_views, 320/251167)\"\"\"\n",
    "    # nb_donate = np.random.binomial(nb_views, 31/251167)\n",
    "\n",
    "    action_dic['view'] = int(nb_views)\n",
    "    action_dic['like'] = int(nb_likes)\n",
    "    action_dic['comment'] = int(nb_comments)\n",
    "    action_dic['click'] = int(nb_clicks)\n",
    "    # action_dic['donate'] = int(nb_donate)\n",
    "\n",
    "    \n",
    "    return action_dic\n",
    "    \n",
    "   \n",
    "\n",
    "def post_rank(graph,poster,score_dic):    \n",
    "    # Ajoute le score propre à la relation de follow et trie la liste\n",
    "    for key in score_dic:\n",
    "        score = score_dic[key]\n",
    "        if graph.are_connected(key,poster):\n",
    "            score *= 2\n",
    "        score_dic[key] = score\n",
    "    return sorted(score_dic, key=score_dic.get, reverse=True)\n",
    "    \n",
    "\n",
    "\n",
    "def choose(action_dic,rank_lst):\n",
    "    # Outputs the choice dictionnary where a list reprensetns the user_ids that will do the actions\n",
    "    choice_dic = {'view': [], 'like': [], 'comment': [], 'click': [], 'donate':[]}\n",
    "    for key in choice_dic:\n",
    "        if key != 'donate' :\n",
    "            choice_dic[key] = choices(rank_lst,weights = weight_list,k = action_dic[key])\n",
    "        else:\n",
    "            click_lst = choice_dic['click']\n",
    "            donate = []\n",
    "            for clicker in click_lst:\n",
    "                flip = choices([0,1],weights = [0.9,0.1],k = 1)[0]\n",
    "                if flip == 1:\n",
    "                    donate.append(clicker)\n",
    "            choice_dic[key] = donate\n",
    "    return choice_dic\n",
    "\n",
    "def action_update(choice_dic,dico):\n",
    "    \n",
    "    #vues:\n",
    "    for id in choice_dic['view']:\n",
    "        dico[id]['total_views']+=1\n",
    "    #like:\n",
    "    for id in choice_dic['like']:\n",
    "        dico[id]['total_likes']+=1\n",
    "    #comment:\n",
    "    for id in choice_dic['comment']:\n",
    "        dico[id]['total_comments']+=1\n",
    "    #click:\n",
    "    for id in choice_dic['click']:\n",
    "        dico[id]['total_click']+=1\n",
    "    #dons:\n",
    "    for id in choice_dic['donate']:\n",
    "        dico[id]['total_donations']+=1\n",
    "    # Updates the values of the dictionnary absed on the actions done (changes second value of tuple)\n",
    "    # Returns nothing\n",
    "    return dico"
   ]
  },
  {
   "cell_type": "code",
   "execution_count": 124,
   "metadata": {},
   "outputs": [],
   "source": [
    "def post(poster,network,scores,dico):\n",
    "    # Variables : vertex id, the graph, a score dictionnary, the global dictionnary\n",
    "    \n",
    "    action_dic = action_number(poster,dico)\n",
    "    rank_lst = post_rank(network,poster,scores)\n",
    "    choice_dic= choose(action_dic, rank_lst)\n",
    "    dico = action_update(choice_dic,dico)\n",
    "    \n",
    "    return dico"
   ]
  },
  {
   "cell_type": "code",
   "execution_count": 125,
   "metadata": {},
   "outputs": [],
   "source": [
    "def update(dico,g):\n",
    "    #Prend en argument le dictionnaire de personnes à un instant et le réseau et fait le pas de temps suivant\n",
    "    general_score = score(g,dico)       #dictionnaire avec id en clé et score en valeur\n",
    "    for person in dico:\n",
    "        if dico[person]['posting'] == 1:\n",
    "            dico = post(person,g,general_score,dico)\n",
    "    \n",
    "    for key in dico:\n",
    "        if dico[key]['posting'] == 1:\n",
    "            dico[key]['posting'] = 0\n",
    "            dico[key]['posted'] = 1\n",
    "        elif (dico[key]['seuil_repost'] < dico[key]['total_views']) and (dico[key]['posted'] != 1):\n",
    "            dico[key]['posting'] = 1\n",
    "\n",
    "def posts_initiaux(dico, listeid):\n",
    "    for id in listeid:\n",
    "        dico[id]['posting']=1\n",
    "    return"
   ]
  },
  {
   "cell_type": "code",
   "execution_count": 143,
   "metadata": {},
   "outputs": [],
   "source": [
    "dico = reini_dico()\n",
    "\n",
    "# posts_initiaux(dico,[name_dic[483543],name_dic[672702],name_dic[587566],name_dic[474227]])\n",
    "posts_initiaux(dico,[network.vs[0],network.vs[1]])\n",
    "\n",
    "\n",
    "V = []\n",
    "L = []    \n",
    "Co = []\n",
    "CL = []\n",
    "D = []\n",
    "Repost = []\n",
    "\n",
    "for t in range(30):\n",
    "    num = 0\n",
    "    for key in dico:\n",
    "        num += dico[key]['posting'] \n",
    "    Repost.append(num)\n",
    "        \n",
    "    update(dico,network)\n",
    "    \n",
    "for key in dico:\n",
    "    V.append(dico[key]['total_views'])\n",
    "    L.append(dico[key]['total_likes'])\n",
    "    Co.append(dico[key]['total_comments'])\n",
    "    CL.append(dico[key]['total_click'])\n",
    "    D.append(dico[key]['total_donations'])\n"
   ]
  },
  {
   "cell_type": "code",
   "execution_count": 144,
   "metadata": {},
   "outputs": [
    {
     "name": "stdout",
     "output_type": "stream",
     "text": [
      "[2, 33, 23, 72, 37, 27, 65, 59, 49, 44, 137, 289, 222, 226, 276, 332, 521, 563, 474, 126, 110, 45, 33, 1, 0, 0, 0, 0, 0, 0]\n",
      "3766\n"
     ]
    },
    {
     "data": {
      "image/png": "[encoded data removed]",
      "text/plain": [
       "<Figure size 640x480 with 1 Axes>"
      ]
     },
     "metadata": {},
     "output_type": "display_data"
    },
    {
     "name": "stdout",
     "output_type": "stream",
     "text": [
      "sommme totales\n",
      "492183\n",
      "20027\n",
      "613\n",
      "594\n",
      "73\n"
     ]
    },
    {
     "data": {
      "image/png": "[encoded data removed]",
      "text/plain": [
       "<Figure size 640x480 with 1 Axes>"
      ]
     },
     "metadata": {},
     "output_type": "display_data"
    }
   ],
   "source": [
    "print(Repost)\n",
    "print(sum(Repost))\n",
    "plt.plot(Repost)\n",
    "plt.show()\n",
    "\n",
    "print('sommme totales')\n",
    "print(sum(V))\n",
    "print(sum(L))\n",
    "print(sum(Co))\n",
    "print(sum(CL))\n",
    "print(sum(D))\n",
    "\n",
    "plt.hist(L)\n",
    "plt.show()"
   ]
  }
 ],
 "metadata": {
  "kernelspec": {
   "display_name": "Python 3",
   "language": "python",
   "name": "python3"
  },
  "language_info": {
   "codemirror_mode": {
    "name": "ipython",
    "version": 3
   },
   "file_extension": ".py",
   "mimetype": "text/x-python",
   "name": "python",
   "nbconvert_exporter": "python",
   "pygments_lexer": "ipython3",
   "version": "3.10.7"
  },
  "orig_nbformat": 4,
  "vscode": {
   "interpreter": {
    "hash": "4eef1e6a6aba5e02d365128cec7d37b09934424f6b3b6fc25e837c6d948e9723"
   }
  }
 },
 "nbformat": 4,
 "nbformat_minor": 2
}
