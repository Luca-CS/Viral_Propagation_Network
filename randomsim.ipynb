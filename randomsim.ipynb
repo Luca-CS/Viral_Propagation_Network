{
 "cells": [
  {
   "cell_type": "code",
   "execution_count": 341,
   "metadata": {},
   "outputs": [],
   "source": [
    "# Import des fonctions et éléments\n",
    "\n",
    "from fonctionsutiles import *\n",
    "import numpy as np\n",
    "import matplotlib.pyplot as plt\n",
    "import numpy as np\n",
    "from random import choices, randint, sample\n",
    "import igraph as ig"
   ]
  },
  {
   "cell_type": "code",
   "execution_count": 342,
   "metadata": {},
   "outputs": [],
   "source": [
    "# Constantes utiles\n",
    "n_node = 10000\n",
    "moyenne = 300"
   ]
  },
  {
   "cell_type": "code",
   "execution_count": 343,
   "metadata": {},
   "outputs": [
    {
     "name": "stdout",
     "output_type": "stream",
     "text": [
      "igraph.Vertex(<igraph.Graph object at 0x00000248B6BC6A40>, 0, {})\n"
     ]
    },
    {
     "data": {
      "text/plain": [
       "[<matplotlib.lines.Line2D at 0x248b6807220>]"
      ]
     },
     "execution_count": 343,
     "metadata": {},
     "output_type": "execute_result"
    },
    {
     "data": {
      "image/png": "[encoded data removed]",
      "text/plain": [
       "<Figure size 640x480 with 1 Axes>"
      ]
     },
     "metadata": {},
     "output_type": "display_data"
    }
   ],
   "source": [
    "#Génération du graphe aléatoire\n",
    "network = ig.Graph.Barabasi(n = n_node, m = moyenne,directed = True)"
   ]
  },
  {
   "cell_type": "code",
   "execution_count": 344,
   "metadata": {},
   "outputs": [],
   "source": [
    "#Génération d'une liste avec poids pour choisir les individus de manière inégale\n",
    "\n",
    "step = int(n_node/10)\n",
    "weight_list = []\n",
    "\n",
    "val = 1\n",
    "count = 0\n",
    "for i in range(n_node):\n",
    "    count += 1\n",
    "    weight_list.append(val)\n",
    "    if count > step:\n",
    "        count = 0\n",
    "        val *= 1.3"
   ]
  },
  {
   "cell_type": "code",
   "execution_count": 345,
   "metadata": {},
   "outputs": [],
   "source": [
    "# Création d'un dictionnaire résumant les informations de chaque noeuds. Les paramètres sont aléatoires\n",
    "\n",
    "def reini_dico():\n",
    "    dico = {}\n",
    "    for v in network.vs:\n",
    "            # initia lisation of the dictionary with basics caracterisitcs\n",
    "        dico[v] = {'total_views': 0,\n",
    "                            'total_likes': 0,\n",
    "                            'total_comments': 0,\n",
    "                            'total_click': 0,\n",
    "                            'total_donations': 0,\n",
    "                            'posting': 0, # first number = is posting at this timestamp, second number = will post at the next timestamp)\n",
    "                            'posted': 0, # 1 if the user already posted something, turns back to 0 after a while (so that the user can post again)\n",
    "                            'iterations_since_post':0,\n",
    "                            'influenciability' : choices([1,2,3], weights=(30,20,10), k=1)[0],\n",
    "                            'seuil_repost' : int(np.random.uniform(0,100)),\n",
    "                            'nb_followers' : v.indegree()\n",
    "                            }  # Parameters we consider have an impact on the post propagation\n",
    "    return dico"
   ]
  },
  {
   "cell_type": "code",
   "execution_count": 346,
   "metadata": {},
   "outputs": [],
   "source": [
    "# Fonction attribuant un score d'engagement à chaque utilisateur du réseau\n",
    "\n",
    "def score(network,dico):\n",
    "    # Donne le score global des individus dans le réseau\n",
    "    \n",
    "    score_dic = {}\n",
    "    for user in dico:\n",
    "        s = 0\n",
    "        user_d = dico[user]\n",
    "        \n",
    "        view = user_d['total_views']\n",
    "        likes = user_d['total_likes']\n",
    "        comm = user_d['total_comments']\n",
    "        click = user_d['total_click']\n",
    "        donate = user_d['total_donations']\n",
    "        inf = user_d['influenciability']\n",
    "        \n",
    "        s += view + 20*likes + 200*comm + 400*click + 4000 * donate + inf\n",
    "        s *= (inf+1)/2\n",
    "        \n",
    "        score_dic[user] = s\n",
    "    return score_dic"
   ]
  },
  {
   "cell_type": "code",
   "execution_count": 347,
   "metadata": {},
   "outputs": [],
   "source": [
    "# Fonctions permettant de générer un post\n",
    "\n",
    "def action_number(poster,dico):\n",
    "    # Returns a dictionnary of the number of persons doing each action for a post from \"poster\"\n",
    "    action_dic = {'view': 0, 'like': 0, 'comment': 0, 'click': 0, 'donate':0}\n",
    "        \n",
    "    followers = dico[poster]['nb_followers']\n",
    "    \n",
    "    \n",
    "    nb_views = followers*np.random.exponential(1/1.2, 1)[0]/1.4\n",
    "    nb_likes = followers*np.random.exponential(1/6, 1)[0]/1.2\n",
    "    nb_comments = followers*np.random.exponential(1/30, 1)[0]/1.2\n",
    "    nb_clicks = np.random.binomial(nb_views, 320/251167)\n",
    "\n",
    "    action_dic['view'] = int(nb_views)\n",
    "    action_dic['like'] = int(nb_likes)\n",
    "    action_dic['comment'] = int(nb_comments)\n",
    "    action_dic['click'] = int(nb_clicks)\n",
    "    \n",
    "    return action_dic\n",
    "    \n",
    "   \n",
    "\n",
    "def post_rank(graph,poster,score_dic):    \n",
    "    # Bonifie le score d'engagement des utilsiateurs s'ils followent le poster\n",
    "    for key in score_dic:\n",
    "        score = score_dic[key]\n",
    "        if graph.are_connected(key,poster):\n",
    "            score *= 2\n",
    "        score_dic[key] = score\n",
    "    return sorted(score_dic, key=score_dic.get, reverse=True)\n",
    "    \n",
    "\n",
    "\n",
    "def choose(action_dic,rank_lst):\n",
    "    # Outputs the choice dictionnary where a list represents the user_ids that will do the actions\n",
    "    choice_dic = {'view': [], 'like': [], 'comment': [], 'click': [], 'donate':[]}\n",
    "    \n",
    "    for key in choice_dic:\n",
    "        if key != 'donate' :\n",
    "            choice_dic[key] = choices(rank_lst,weights = weight_list,k = action_dic[key])\n",
    "        else:\n",
    "            click_lst = choice_dic['click']\n",
    "            donate = []\n",
    "            for clicker in click_lst:\n",
    "                flip = choices([0,1],weights = [0.9,0.1],k = 1)[0]\n",
    "                if flip == 1:\n",
    "                    donate.append(clicker)\n",
    "            choice_dic[key] = donate\n",
    "\n",
    "    return choice_dic\n",
    "\n",
    "def action_update(choice_dic,dico):\n",
    "    # Updates the values of the dictionnary based on the actions done (changes second value of tuple)\n",
    "    \n",
    "    #vues:\n",
    "    for id in choice_dic['view']:\n",
    "        dico[id]['total_views']+=1\n",
    "    #like:\n",
    "    for id in choice_dic['like']:\n",
    "        dico[id]['total_likes']+=1\n",
    "    #comment:\n",
    "    for id in choice_dic['comment']:\n",
    "        dico[id]['total_comments']+=1\n",
    "    #click:\n",
    "    for id in choice_dic['click']:\n",
    "        dico[id]['total_click']+=1\n",
    "    #dons:\n",
    "    for id in choice_dic['donate']:\n",
    "        dico[id]['total_donations']+=1\n",
    "        \n",
    "    return dico"
   ]
  },
  {
   "cell_type": "code",
   "execution_count": 348,
   "metadata": {},
   "outputs": [],
   "source": [
    "# Genere un post avec les fonctions précédentes\n",
    "\n",
    "def post(poster,network,scores,dico):\n",
    "    # Variables : vertex id, the graph, a score dictionnary, the global dictionnary\n",
    "    \n",
    "    action_dic = action_number(poster,dico)\n",
    "    rank_lst = post_rank(network,poster,scores)\n",
    "    choice_dic= choose(action_dic, rank_lst)\n",
    "    dico = action_update(choice_dic,dico)\n",
    "    \n",
    "    return dico"
   ]
  },
  {
   "cell_type": "code",
   "execution_count": 349,
   "metadata": {},
   "outputs": [],
   "source": [
    "# Fait une iteration de temps de simulation en generant tout les post\n",
    "\n",
    "def update(dico,g):\n",
    "    #Prend en argument le dictionnaire de personnes à un instant et le réseau et fait le pas de temps suivant\n",
    "    general_score = score(g,dico)       #dictionnaire avec id en clé et score en valeur\n",
    "    for person in dico:\n",
    "        if dico[person]['posting'] == 1:\n",
    "            dico = post(person,g,general_score,dico)\n",
    "    \n",
    "    for key in dico:\n",
    "        if dico[key]['posting'] == 1:\n",
    "            dico[key]['posting'] = 0\n",
    "            dico[key]['posted'] = 1\n",
    "        elif (dico[key]['seuil_repost'] < dico[key]['total_views']) and (dico[key]['posted'] != 1):\n",
    "            dico[key]['posting'] = 1\n",
    "\n",
    "def posts_initiaux(dico, listeid):\n",
    "    for id in listeid:\n",
    "        dico[id]['posting']=1\n",
    "    return"
   ]
  },
  {
   "cell_type": "code",
   "execution_count": null,
   "metadata": {},
   "outputs": [],
   "source": [
    "# Cree des listes triees des utilsateurs par followers\n",
    "\n",
    "vertex_per_follower = []\n",
    "L = []\n",
    "for vertex in network.vs:\n",
    "    followers = vertex.indegree()\n",
    "    tuple = (vertex,followers)\n",
    "    L.append(tuple)\n",
    "L.sort(key=lambda a: a[1])\n",
    "L.reverse() #Liste de tuples triés de forme (utilisateur, nb_followers)\n",
    "\n",
    "vertex_per_follower = [L[i][0] for i in range(len(L))] #La même liste avec seulement les utilisateurs\n",
    "Liste_degree = [v.indegree() for v in vertex_per_follower] #La même liste avec seulement les followers"
   ]
  },
  {
   "cell_type": "code",
   "execution_count": 433,
   "metadata": {},
   "outputs": [
    {
     "name": "stdout",
     "output_type": "stream",
     "text": [
      "1873\n",
      "16\n"
     ]
    }
   ],
   "source": [
    "# Genère une simulation\n",
    "\n",
    "dico = reini_dico()\n",
    "list = sample(range(1000,5000),400)\n",
    "vertex = [vertex_per_follower[i] for i in list]\n",
    "\n",
    "posts_initiaux(dico,vertex)\n",
    "\n",
    "V = []\n",
    "L = []    \n",
    "Co = []\n",
    "CL = []\n",
    "D = []\n",
    "Repost = []\n",
    "\n",
    "for t in range(30):\n",
    "    num = 0\n",
    "    for key in dico:\n",
    "        num += dico[key]['posting'] \n",
    "    Repost.append(num)\n",
    "        \n",
    "    update(dico,network)\n",
    "    \n",
    "for key in dico:\n",
    "    V.append(dico[key]['total_views'])\n",
    "    L.append(dico[key]['total_likes'])\n",
    "    Co.append(dico[key]['total_comments'])\n",
    "    CL.append(dico[key]['total_click'])\n",
    "    D.append(dico[key]['total_donations'])\n"
   ]
  },
  {
   "cell_type": "code",
   "execution_count": 435,
   "metadata": {},
   "outputs": [
    {
     "name": "stdout",
     "output_type": "stream",
     "text": [
      "[400, 42, 104, 186, 431, 395, 812, 1388, 1990, 2010, 948, 652, 288, 150, 80, 28, 1, 0, 0, 0, 0, 0, 0, 0, 0, 0, 0, 0, 0, 0]\n",
      "9905\n"
     ]
    },
    {
     "data": {
      "image/png": "[encoded data removed]",
      "text/plain": [
       "<Figure size 640x480 with 1 Axes>"
      ]
     },
     "metadata": {},
     "output_type": "display_data"
    },
    {
     "name": "stdout",
     "output_type": "stream",
     "text": [
      "sommme totales\n",
      "1712443\n",
      "379611\n",
      "81712\n",
      "2134\n",
      "209\n"
     ]
    },
    {
     "data": {
      "image/png": "[encoded data removed]",
      "text/plain": [
       "<Figure size 640x480 with 1 Axes>"
      ]
     },
     "metadata": {},
     "output_type": "display_data"
    }
   ],
   "source": [
    "print(Repost)\n",
    "print(sum(Repost))\n",
    "plt.plot(Repost[:30])\n",
    "plt.show()\n",
    "\n",
    "print('sommme totales')\n",
    "print(sum(V))\n",
    "print(sum(L))\n",
    "print(sum(Co))\n",
    "print(sum(CL))\n",
    "print(sum(D))\n",
    "\n",
    "# plt.hist(V)\n",
    "#plt.show()"
   ]
  },
  {
   "cell_type": "code",
   "execution_count": 471,
   "metadata": {},
   "outputs": [
    {
     "name": "stdout",
     "output_type": "stream",
     "text": [
      "0.14\n",
      "0.16\n",
      "0.16\n",
      "0.16\n",
      "0.22\n",
      "0.24\n",
      "0.34\n",
      "0.38\n",
      "0.38\n",
      "0.46\n",
      "0.64\n",
      "0.7\n",
      "0.6\n",
      "0.62\n",
      "0.9\n",
      "0.7\n",
      "0.74\n",
      "0.82\n",
      "0.88\n",
      "0.84\n",
      "0.86\n",
      "0.88\n",
      "0.86\n",
      "0.88\n",
      "0.82\n",
      "0.9\n",
      "0.84\n",
      "0.92\n",
      "0.98\n",
      "0.98\n",
      "0.98\n"
     ]
    },
    {
     "ename": "KeyboardInterrupt",
     "evalue": "",
     "output_type": "error",
     "traceback": [
      "\u001b[1;31m---------------------------------------------------------------------------\u001b[0m",
      "\u001b[1;31mKeyboardInterrupt\u001b[0m                         Traceback (most recent call last)",
      "Cell \u001b[1;32mIn[471], line 68\u001b[0m\n\u001b[0;32m     65\u001b[0m         \u001b[39mprint\u001b[39m(L[\u001b[39m-\u001b[39m\u001b[39m1\u001b[39m][\u001b[39m0\u001b[39m])\n\u001b[0;32m     66\u001b[0m     \u001b[39mreturn\u001b[39;00m L\n\u001b[1;32m---> 68\u001b[0m \u001b[39mprint\u001b[39m(prob_virality_inter(a,b))\n",
      "Cell \u001b[1;32mIn[471], line 64\u001b[0m, in \u001b[0;36mprob_virality_inter\u001b[1;34m(a, b)\u001b[0m\n\u001b[0;32m     62\u001b[0m L \u001b[39m=\u001b[39m []\n\u001b[0;32m     63\u001b[0m \u001b[39mfor\u001b[39;00m n \u001b[39min\u001b[39;00m \u001b[39mrange\u001b[39m(min_l,max_l \u001b[39m+\u001b[39m \u001b[39m1\u001b[39m):\n\u001b[1;32m---> 64\u001b[0m     L\u001b[39m.\u001b[39mappend((prob_virality(a,b,n),n))\n\u001b[0;32m     65\u001b[0m     \u001b[39mprint\u001b[39m(L[\u001b[39m-\u001b[39m\u001b[39m1\u001b[39m][\u001b[39m0\u001b[39m])\n\u001b[0;32m     66\u001b[0m \u001b[39mreturn\u001b[39;00m L\n",
      "Cell \u001b[1;32mIn[471], line 58\u001b[0m, in \u001b[0;36mprob_virality\u001b[1;34m(a, b, n)\u001b[0m\n\u001b[0;32m     55\u001b[0m     \u001b[39mlist\u001b[39m \u001b[39m=\u001b[39m sample(\u001b[39mrange\u001b[39m(a,b\u001b[39m+\u001b[39m\u001b[39m1\u001b[39m),n)\n\u001b[0;32m     56\u001b[0m     vertex \u001b[39m=\u001b[39m [vertex_per_follower[i] \u001b[39mfor\u001b[39;00m i \u001b[39min\u001b[39;00m \u001b[39mlist\u001b[39m]\n\u001b[1;32m---> 58\u001b[0m     s \u001b[39m+\u001b[39m\u001b[39m=\u001b[39m \u001b[39mint\u001b[39m(viral(vertex))\n\u001b[0;32m     59\u001b[0m \u001b[39mreturn\u001b[39;00m s\u001b[39m/\u001b[39mnum\n",
      "Cell \u001b[1;32mIn[471], line 29\u001b[0m, in \u001b[0;36mviral\u001b[1;34m(ini_lst)\u001b[0m\n\u001b[0;32m     28\u001b[0m \u001b[39mdef\u001b[39;00m \u001b[39mviral\u001b[39m(ini_lst):\n\u001b[1;32m---> 29\u001b[0m     dico \u001b[39m=\u001b[39m reini_dico()\n\u001b[0;32m     31\u001b[0m     posts_initiaux(dico,ini_lst)\n\u001b[0;32m     32\u001b[0m     bol \u001b[39m=\u001b[39m \u001b[39mTrue\u001b[39;00m\n",
      "Cell \u001b[1;32mIn[345], line 15\u001b[0m, in \u001b[0;36mreini_dico\u001b[1;34m()\u001b[0m\n\u001b[0;32m      4\u001b[0m dico \u001b[39m=\u001b[39m {}\n\u001b[0;32m      5\u001b[0m \u001b[39mfor\u001b[39;00m v \u001b[39min\u001b[39;00m network\u001b[39m.\u001b[39mvs:\n\u001b[0;32m      6\u001b[0m         \u001b[39m# initia lisation of the dictionary with basics caracterisitcs\u001b[39;00m\n\u001b[0;32m      7\u001b[0m     dico[v] \u001b[39m=\u001b[39m {\u001b[39m'\u001b[39m\u001b[39mtotal_views\u001b[39m\u001b[39m'\u001b[39m: \u001b[39m0\u001b[39m,\n\u001b[0;32m      8\u001b[0m                         \u001b[39m'\u001b[39m\u001b[39mtotal_likes\u001b[39m\u001b[39m'\u001b[39m: \u001b[39m0\u001b[39m,\n\u001b[0;32m      9\u001b[0m                         \u001b[39m'\u001b[39m\u001b[39mtotal_comments\u001b[39m\u001b[39m'\u001b[39m: \u001b[39m0\u001b[39m,\n\u001b[0;32m     10\u001b[0m                         \u001b[39m'\u001b[39m\u001b[39mtotal_click\u001b[39m\u001b[39m'\u001b[39m: \u001b[39m0\u001b[39m,\n\u001b[0;32m     11\u001b[0m                         \u001b[39m'\u001b[39m\u001b[39mtotal_donations\u001b[39m\u001b[39m'\u001b[39m: \u001b[39m0\u001b[39m,\n\u001b[0;32m     12\u001b[0m                         \u001b[39m'\u001b[39m\u001b[39mposting\u001b[39m\u001b[39m'\u001b[39m: \u001b[39m0\u001b[39m, \u001b[39m# first number = is posting at this timestamp, second number = will post at the next timestamp)\u001b[39;00m\n\u001b[0;32m     13\u001b[0m                         \u001b[39m'\u001b[39m\u001b[39mposted\u001b[39m\u001b[39m'\u001b[39m: \u001b[39m0\u001b[39m, \u001b[39m# 1 if the user already posted something, turns back to 0 after a while (so that the user can post again)\u001b[39;00m\n\u001b[0;32m     14\u001b[0m                         \u001b[39m'\u001b[39m\u001b[39miterations_since_post\u001b[39m\u001b[39m'\u001b[39m:\u001b[39m0\u001b[39m,\n\u001b[1;32m---> 15\u001b[0m                         \u001b[39m'\u001b[39m\u001b[39minfluenciability\u001b[39m\u001b[39m'\u001b[39m : choices([\u001b[39m1\u001b[39;49m,\u001b[39m2\u001b[39;49m,\u001b[39m3\u001b[39;49m], weights\u001b[39m=\u001b[39;49m(\u001b[39m30\u001b[39;49m,\u001b[39m20\u001b[39;49m,\u001b[39m10\u001b[39;49m), k\u001b[39m=\u001b[39;49m\u001b[39m1\u001b[39;49m)[\u001b[39m0\u001b[39m],\n\u001b[0;32m     16\u001b[0m                         \u001b[39m'\u001b[39m\u001b[39mseuil_repost\u001b[39m\u001b[39m'\u001b[39m : \u001b[39mint\u001b[39m(np\u001b[39m.\u001b[39mrandom\u001b[39m.\u001b[39muniform(\u001b[39m0\u001b[39m,\u001b[39m100\u001b[39m)),\n\u001b[0;32m     17\u001b[0m                         \u001b[39m'\u001b[39m\u001b[39mnb_followers\u001b[39m\u001b[39m'\u001b[39m : v\u001b[39m.\u001b[39mindegree()\n\u001b[0;32m     18\u001b[0m                         }  \u001b[39m# Parameters we consider have an impact on the post propagation\u001b[39;00m\n\u001b[0;32m     19\u001b[0m \u001b[39mreturn\u001b[39;00m dico\n",
      "File \u001b[1;32mc:\\Users\\pietr\\AppData\\Local\\Programs\\Python\\Python310\\lib\\random.py:540\u001b[0m, in \u001b[0;36mRandom.choices\u001b[1;34m(self, population, weights, cum_weights, k)\u001b[0m\n\u001b[0;32m    538\u001b[0m bisect \u001b[39m=\u001b[39m _bisect\n\u001b[0;32m    539\u001b[0m hi \u001b[39m=\u001b[39m n \u001b[39m-\u001b[39m \u001b[39m1\u001b[39m\n\u001b[1;32m--> 540\u001b[0m \u001b[39mreturn\u001b[39;00m [population[bisect(cum_weights, random() \u001b[39m*\u001b[39m total, \u001b[39m0\u001b[39m, hi)]\n\u001b[0;32m    541\u001b[0m         \u001b[39mfor\u001b[39;00m i \u001b[39min\u001b[39;00m _repeat(\u001b[39mNone\u001b[39;00m, k)]\n",
      "File \u001b[1;32mc:\\Users\\pietr\\AppData\\Local\\Programs\\Python\\Python310\\lib\\random.py:540\u001b[0m, in \u001b[0;36m<listcomp>\u001b[1;34m(.0)\u001b[0m\n\u001b[0;32m    538\u001b[0m bisect \u001b[39m=\u001b[39m _bisect\n\u001b[0;32m    539\u001b[0m hi \u001b[39m=\u001b[39m n \u001b[39m-\u001b[39m \u001b[39m1\u001b[39m\n\u001b[1;32m--> 540\u001b[0m \u001b[39mreturn\u001b[39;00m [population[bisect(cum_weights, random() \u001b[39m*\u001b[39m total, \u001b[39m0\u001b[39m, hi)]\n\u001b[0;32m    541\u001b[0m         \u001b[39mfor\u001b[39;00m i \u001b[39min\u001b[39;00m _repeat(\u001b[39mNone\u001b[39;00m, k)]\n",
      "\u001b[1;31mKeyboardInterrupt\u001b[0m: "
     ]
    }
   ],
   "source": [
    "#Simulations pour calcule la probabilite de viralite pour differentes situations\n",
    "\n",
    "# range : 0 - 10k -> 0 - 170 euros\n",
    "# 8000 et 5000 : 0 - 320, \n",
    "# 5000 - 2000 : 321 - 400\n",
    "# 2000 - 1000 : 401 - 460\n",
    "# 1000 - 500 : 461 -  550\n",
    "\n",
    "\n",
    "# COMMENT FAIRE :\n",
    "# Choisir une colonne du sheet (a - b)\n",
    "a = 461\n",
    "b = 550\n",
    "\n",
    "# Choisir une précision \n",
    "p = 50\n",
    "\n",
    "#CHoisir les ligne que l'on veut faire\n",
    "min_l = 1\n",
    "max_l = 50\n",
    "\n",
    "# Votre résultat sera de la forme (0.p, n). Veuillez remplir la ligne correspondant de la colonne avec la valeur p\n",
    "# Merci :)\n",
    "\n",
    "\n",
    "def viral(ini_lst):\n",
    "    dico = reini_dico()\n",
    "\n",
    "    posts_initiaux(dico,ini_lst)\n",
    "    bol = True\n",
    "    n = 0\n",
    "    \n",
    "    while bol:\n",
    "        n += 1\n",
    "\n",
    "        if n > 6:\n",
    "            return True\n",
    "        update(dico,network)\n",
    "\n",
    "        num = 0\n",
    "        for key in dico:\n",
    "            num += dico[key]['posting'] \n",
    "        if num == 0:\n",
    "            return False\n",
    "        if num > 250:\n",
    "            return True\n",
    "\n",
    "def prob_virality(a,b,n):\n",
    "    s = 0\n",
    "    num = 0\n",
    "    for i in range(p):\n",
    "        num += 1\n",
    "        list = sample(range(a,b+1),n)\n",
    "        vertex = [vertex_per_follower[i] for i in list]\n",
    "        \n",
    "        s += int(viral(vertex))\n",
    "    return s/num    \n",
    "\n",
    "def prob_virality_inter(a,b):\n",
    "    L = []\n",
    "    for n in range(min_l,max_l + 1):\n",
    "        print(n)\n",
    "        L.append((prob_virality(a,b,n),n))\n",
    "        print(L[-1][0])\n",
    "    return L\n",
    "    \n",
    "print(prob_virality_inter(a,b))\n",
    "\n",
    "            "
   ]
  }
 ],
 "metadata": {
  "kernelspec": {
   "display_name": "Python 3",
   "language": "python",
   "name": "python3"
  },
  "language_info": {
   "codemirror_mode": {
    "name": "ipython",
    "version": 3
   },
   "file_extension": ".py",
   "mimetype": "text/x-python",
   "name": "python",
   "nbconvert_exporter": "python",
   "pygments_lexer": "ipython3",
   "version": "3.10.7"
  },
  "orig_nbformat": 4,
  "vscode": {
   "interpreter": {
    "hash": "4eef1e6a6aba5e02d365128cec7d37b09934424f6b3b6fc25e837c6d948e9723"
   }
  }
 },
 "nbformat": 4,
 "nbformat_minor": 2
}
