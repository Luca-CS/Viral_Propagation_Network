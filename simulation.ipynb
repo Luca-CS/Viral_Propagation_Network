{
 "cells": [
  {
   "cell_type": "code",
   "execution_count": 2,
   "metadata": {},
   "outputs": [
    {
     "name": "stdout",
     "output_type": "stream",
     "text": [
      "3045\n",
      "3045\n",
      "487843\n"
     ]
    }
   ],
   "source": [
    "from fonctionsutiles import *\n",
    "import numpy as np\n",
    "import matplotlib.pyplot as plt\n",
    "import numpy as np\n",
    "from graph import network, name_dic\n",
    "from random import choices\n",
    "import igraph as ig"
   ]
  },
  {
   "cell_type": "code",
   "execution_count": 3,
   "metadata": {},
   "outputs": [],
   "source": [
    "node_num = network.vcount()\n",
    "step = int(node_num/10)\n",
    "weight_list = []\n",
    "\n",
    "val = 1\n",
    "count = 0\n",
    "for i in range(node_num):\n",
    "    count += 1\n",
    "    weight_list.append(val)\n",
    "    if count > step:\n",
    "        count = 0\n",
    "        val *= 1.3"
   ]
  },
  {
   "cell_type": "code",
   "execution_count": 4,
   "metadata": {},
   "outputs": [],
   "source": [
    "dico = {}\n",
    "for index, row in cleaned_account.iterrows():\n",
    "        # initialisation of the dictionary with basics caracterisitcs\n",
    "    dico[name_dic[row.id_user]] = {'total_views': 0,\n",
    "                         'total_likes': 0,\n",
    "                         'total_comments': 0,\n",
    "                         'total_click': 0,\n",
    "                         'total_donations': 0,\n",
    "                         'posting': 0, # first number = is posting at this timestamp, second number = will post at the next timestamp)\n",
    "                         'posted': 0, # 1 if the user already posted something, turns back to 0 after a while (so that the user can post again)\n",
    "                         'iterations_since_post':0,\n",
    "                         'influenciability' : choices([1,2,3], weights=(30,20,10), k=1)[0],\n",
    "                         'seuil_repost' : int(np.random.uniform(0,20))\n",
    "                        }  # Parameters we consider have an impact on the post propagation"
   ]
  },
  {
   "cell_type": "code",
   "execution_count": 5,
   "metadata": {},
   "outputs": [],
   "source": [
    "def score(network,dico):\n",
    "    # Donne le score global des individus dans le réseau\n",
    "    \n",
    "    score_dic = {}\n",
    "    for user in dico:\n",
    "        s = 0\n",
    "        user_d = dico[user]\n",
    "        \n",
    "        view = user_d['total_views']\n",
    "        likes = user_d['total_likes']\n",
    "        comm = user_d['total_comments']\n",
    "        click = user_d['total_click']\n",
    "        donate = user_d['total_donations']\n",
    "        inf = user_d['influenciability']\n",
    "        \n",
    "        s += view + 20*likes + 200*comm + 400*click + 4000 * donate + inf\n",
    "        s *= (inf+1)/2\n",
    "        \n",
    "        score_dic[user] = s\n",
    "    return score_dic"
   ]
  },
  {
   "cell_type": "code",
   "execution_count": 16,
   "metadata": {},
   "outputs": [],
   "source": [
    "def action_number(poster,dico):\n",
    "    # Returns a dictionnary of the number of persons doing each action\n",
    "    action_dic = {'view': 0, 'like': 0, 'comment': 0, 'click': 0, 'donate':0}\n",
    "    \n",
    "    followers = int(cleaned_account[name_dic[int(cleaned_account['id_user'])]==poster]['nb_followers'])\n",
    "    nb_views = followers*np.random.exponential(1.5, 1)[0]\n",
    "    nb_likes = np.random.exponential(50, 1)[0]\n",
    "    nb_comments = followers*np.random.exponential(2, 1)[0]\n",
    "    nb_clicks = np.random.binomial(nb_views,320/251167)\n",
    "    nb_donate = np.random.binomial(nb_views,31/251167)\n",
    "    \n",
    "    action_dic['view']=int(nb_views)\n",
    "    action_dic['like']=int(nb_likes)\n",
    "    action_dic['comment']=int(nb_comments)\n",
    "    action_dic['click']=int(nb_clicks)\n",
    "    action_dic['donate']=int(nb_donate)\n",
    "    \n",
    "    return action_dic\n",
    "    \n",
    "   \n",
    "\n",
    "def post_rank(graph,poster,score_dic):    \n",
    "    # Ajoute le score propre à la relation de follow et trie la liste\n",
    "    for key in score_dic:\n",
    "        score = score_dic[key]\n",
    "        if graph.are_connected(int(key),int(poster)):\n",
    "            score *= 2\n",
    "        score_dic[key] = score\n",
    "    return sorted(score_dic, key=score_dic.get, reverse=True)\n",
    "    \n",
    "\n",
    "\n",
    "def choose(action_dic,rank_lst):\n",
    "    # Outputs the choice dictionnary where a list reprensetns the user_ids that will do the actions\n",
    "    choice_dic = {'view': [], 'like': [], 'comment': [], 'click': [], 'donate':[]}\n",
    "    for key in choice_dic:\n",
    "        print(len(rank_lst))\n",
    "        print(len(weight_list))\n",
    "        choice_dic[key] = choices(rank_lst,weights = weight_list,k = action_dic[key])\n",
    "    return choice_dic\n",
    "\n",
    "def action_update(choice_dic,dico):\n",
    "    \n",
    "    #vues:\n",
    "    for id in choice_dic['view']:\n",
    "        dico[id]['total_views']+=1\n",
    "    #like:\n",
    "    for id in choice_dic['like']:\n",
    "        dico[id]['total_likes']+=1\n",
    "    #comment:\n",
    "    for id in choice_dic['comment']:\n",
    "        dico[id]['total_comments']+=1\n",
    "    #click:\n",
    "    for id in choice_dic['click']:\n",
    "        dico[id]['total_click']+=1\n",
    "    #dons:\n",
    "    for id in choice_dic['donate']:\n",
    "        dico[id]['total_donations']+=1\n",
    "    # Updates the values of the dictionnary absed on the actions done (changes second value of tuple)\n",
    "    # Returns nothing\n",
    "    return dico"
   ]
  },
  {
   "cell_type": "code",
   "execution_count": 7,
   "metadata": {},
   "outputs": [],
   "source": [
    "def post(poster,network,scores,dico):\n",
    "    # Variables : vertex id, the graph, a score dictionnary, the global dictionnary\n",
    "    \n",
    "    action_dic = action_number(poster,dico)\n",
    "    rank_lst = post_rank(network,poster,scores)\n",
    "    choice_dic= choose(action_dic, rank_lst)\n",
    "    dico = action_update(choice_dic,dico)\n",
    "    \n",
    "    return dico"
   ]
  },
  {
   "cell_type": "code",
   "execution_count": 8,
   "metadata": {},
   "outputs": [],
   "source": [
    "def update(dico,g):\n",
    "    #Prend en argument le dictionnaire de personnes à un instant et le réseau et fait le pas de temps suivant\n",
    "    general_score = score(g,dico)       #dictionnaire avec id en clé et score en valeur\n",
    "    for person in dico:\n",
    "        if dico[person]['posting'] == 1:\n",
    "            dico = post(person,g,general_score,dico)\n",
    "    \n",
    "    for key in dico:\n",
    "        if dico[key]['posting'] == 1:\n",
    "            dico[key]['posting'] = 0\n",
    "            dico[key]['posted'] = 1\n",
    "        elif (dico[key]['seuil_repost'] < dico[key]['total_views']) and (dico[key]['posted'] != 1):\n",
    "            dico[key]['posting'] = 1\n",
    "\n",
    "def posts_initiaux(dico, listeid):\n",
    "    for id in listeid:\n",
    "        dico[id]['posting']=1\n",
    "    return"
   ]
  },
  {
   "cell_type": "code",
   "execution_count": 17,
   "metadata": {},
   "outputs": [
    {
     "ename": "TypeError",
     "evalue": "unhashable type: 'Series'",
     "output_type": "error",
     "traceback": [
      "\u001b[1;31m---------------------------------------------------------------------------\u001b[0m",
      "\u001b[1;31mTypeError\u001b[0m                                 Traceback (most recent call last)",
      "Cell \u001b[1;32mIn[17], line 8\u001b[0m\n\u001b[0;32m      6\u001b[0m D \u001b[39m=\u001b[39m []\n\u001b[0;32m      7\u001b[0m \u001b[39mfor\u001b[39;00m t \u001b[39min\u001b[39;00m \u001b[39mrange\u001b[39m(\u001b[39m1\u001b[39m):\n\u001b[1;32m----> 8\u001b[0m     update(dico,network)\n\u001b[0;32m      9\u001b[0m \u001b[39mfor\u001b[39;00m key \u001b[39min\u001b[39;00m dico:\n\u001b[0;32m     10\u001b[0m     V\u001b[39m.\u001b[39mappend(dico[key][\u001b[39m'\u001b[39m\u001b[39mtotal_views\u001b[39m\u001b[39m'\u001b[39m])\n",
      "Cell \u001b[1;32mIn[8], line 6\u001b[0m, in \u001b[0;36mupdate\u001b[1;34m(dico, g)\u001b[0m\n\u001b[0;32m      4\u001b[0m \u001b[39mfor\u001b[39;00m person \u001b[39min\u001b[39;00m dico:\n\u001b[0;32m      5\u001b[0m     \u001b[39mif\u001b[39;00m dico[person][\u001b[39m'\u001b[39m\u001b[39mposting\u001b[39m\u001b[39m'\u001b[39m] \u001b[39m==\u001b[39m \u001b[39m1\u001b[39m:\n\u001b[1;32m----> 6\u001b[0m         dico \u001b[39m=\u001b[39m post(person,g,general_score,dico)\n\u001b[0;32m      8\u001b[0m \u001b[39mfor\u001b[39;00m key \u001b[39min\u001b[39;00m dico:\n\u001b[0;32m      9\u001b[0m     \u001b[39mif\u001b[39;00m dico[key][\u001b[39m'\u001b[39m\u001b[39mposting\u001b[39m\u001b[39m'\u001b[39m] \u001b[39m==\u001b[39m \u001b[39m1\u001b[39m:\n",
      "Cell \u001b[1;32mIn[7], line 4\u001b[0m, in \u001b[0;36mpost\u001b[1;34m(poster, network, scores, dico)\u001b[0m\n\u001b[0;32m      1\u001b[0m \u001b[39mdef\u001b[39;00m \u001b[39mpost\u001b[39m(poster,network,scores,dico):\n\u001b[0;32m      2\u001b[0m     \u001b[39m# Variables : vertex id, the graph, a score dictionnary, the global dictionnary\u001b[39;00m\n\u001b[1;32m----> 4\u001b[0m     action_dic \u001b[39m=\u001b[39m action_number(poster,dico)\n\u001b[0;32m      5\u001b[0m     rank_lst \u001b[39m=\u001b[39m post_rank(network,poster,scores)\n\u001b[0;32m      6\u001b[0m     choice_dic\u001b[39m=\u001b[39m choose(action_dic, rank_lst)\n",
      "Cell \u001b[1;32mIn[16], line 5\u001b[0m, in \u001b[0;36maction_number\u001b[1;34m(poster, dico)\u001b[0m\n\u001b[0;32m      1\u001b[0m \u001b[39mdef\u001b[39;00m \u001b[39maction_number\u001b[39m(poster,dico):\n\u001b[0;32m      2\u001b[0m     \u001b[39m# Returns a dictionnary of the number of persons doing each action\u001b[39;00m\n\u001b[0;32m      3\u001b[0m     action_dic \u001b[39m=\u001b[39m {\u001b[39m'\u001b[39m\u001b[39mview\u001b[39m\u001b[39m'\u001b[39m: \u001b[39m0\u001b[39m, \u001b[39m'\u001b[39m\u001b[39mlike\u001b[39m\u001b[39m'\u001b[39m: \u001b[39m0\u001b[39m, \u001b[39m'\u001b[39m\u001b[39mcomment\u001b[39m\u001b[39m'\u001b[39m: \u001b[39m0\u001b[39m, \u001b[39m'\u001b[39m\u001b[39mclick\u001b[39m\u001b[39m'\u001b[39m: \u001b[39m0\u001b[39m, \u001b[39m'\u001b[39m\u001b[39mdonate\u001b[39m\u001b[39m'\u001b[39m:\u001b[39m0\u001b[39m}\n\u001b[1;32m----> 5\u001b[0m     followers \u001b[39m=\u001b[39m \u001b[39mint\u001b[39m(cleaned_account[name_dic[cleaned_account[\u001b[39m'\u001b[39;49m\u001b[39mid_user\u001b[39;49m\u001b[39m'\u001b[39;49m]]\u001b[39m==\u001b[39mposter][\u001b[39m'\u001b[39m\u001b[39mnb_followers\u001b[39m\u001b[39m'\u001b[39m])\n\u001b[0;32m      6\u001b[0m     nb_views \u001b[39m=\u001b[39m followers\u001b[39m*\u001b[39mnp\u001b[39m.\u001b[39mrandom\u001b[39m.\u001b[39mexponential(\u001b[39m1.5\u001b[39m, \u001b[39m1\u001b[39m)[\u001b[39m0\u001b[39m]\n\u001b[0;32m      7\u001b[0m     nb_likes \u001b[39m=\u001b[39m np\u001b[39m.\u001b[39mrandom\u001b[39m.\u001b[39mexponential(\u001b[39m50\u001b[39m, \u001b[39m1\u001b[39m)[\u001b[39m0\u001b[39m]\n",
      "\u001b[1;31mTypeError\u001b[0m: unhashable type: 'Series'"
     ]
    }
   ],
   "source": [
    "posts_initiaux(dico,[name_dic[483543],name_dic[672702],name_dic[587566],name_dic[474227]])\n",
    "V = []\n",
    "L = []    \n",
    "Co = []\n",
    "CL = []\n",
    "D = []\n",
    "for t in range(1):\n",
    "    update(dico,network)\n",
    "for key in dico:\n",
    "    V.append(dico[key]['total_views'])\n",
    "    L.append(dico[key]['total_likes'])\n",
    "    Co.append(dico[key]['total_comments'])\n",
    "\n",
    "\n",
    "plt.hist(V,bins = 20)\n",
    "plt.show()"
   ]
  }
 ],
 "metadata": {
  "kernelspec": {
   "display_name": "Python 3",
   "language": "python",
   "name": "python3"
  },
  "language_info": {
   "codemirror_mode": {
    "name": "ipython",
    "version": 3
   },
   "file_extension": ".py",
   "mimetype": "text/x-python",
   "name": "python",
   "nbconvert_exporter": "python",
   "pygments_lexer": "ipython3",
   "version": "3.10.7"
  },
  "orig_nbformat": 4,
  "vscode": {
   "interpreter": {
    "hash": "4eef1e6a6aba5e02d365128cec7d37b09934424f6b3b6fc25e837c6d948e9723"
   }
  }
 },
 "nbformat": 4,
 "nbformat_minor": 2
}
